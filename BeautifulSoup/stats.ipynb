import seaborn as sas
data =[10,1,12,15,16,18,20,22,24,26,29,30,35,37]
sas.histplot(data)