{
 "cells": [
  {
   "cell_type": "code",
   "execution_count": 2,
   "id": "95db1ac6",
   "metadata": {},
   "outputs": [
    {
     "name": "stdout",
     "output_type": "stream",
     "text": [
      "Note: you may need to restart the kernel to use updated packages.Requirement already satisfied: selenium==3.141.0 in c:\\programdata\\anaconda3\\lib\\site-packages (3.141.0)\n",
      "\n",
      "Requirement already satisfied: urllib3 in c:\\programdata\\anaconda3\\lib\\site-packages (from selenium==3.141.0) (1.26.4)\n"
     ]
    }
   ],
   "source": [
    "pip install selenium==3.141.0"
   ]
  },
  {
   "cell_type": "code",
   "execution_count": 3,
   "id": "6a94766b",
   "metadata": {},
   "outputs": [],
   "source": [
    "from selenium import webdriver\n",
    "import pandas as pd\n",
    "from selenium.webdriver.support.ui import Select\n",
    "import time"
   ]
  },
  {
   "cell_type": "code",
   "execution_count": 4,
   "id": "bcbef910",
   "metadata": {},
   "outputs": [],
   "source": [
    "website=\"https://www.adamchoi.co.uk/overs/detailed\""
   ]
  },
  {
   "cell_type": "code",
   "execution_count": 5,
   "id": "0f940b19",
   "metadata": {},
   "outputs": [],
   "source": [
    "path=\"F:\\iNeuron\\chromedriver_win32\\chromedriver.exe\""
   ]
  },
  {
   "cell_type": "code",
   "execution_count": 6,
   "id": "9eb80a0f",
   "metadata": {},
   "outputs": [],
   "source": [
    "driver=webdriver.Chrome(path)"
   ]
  },
  {
   "cell_type": "code",
   "execution_count": 7,
   "id": "18436bd8",
   "metadata": {},
   "outputs": [],
   "source": [
    "driver.get(website)"
   ]
  },
  {
   "cell_type": "code",
   "execution_count": 8,
   "id": "625dd670",
   "metadata": {},
   "outputs": [],
   "source": [
    "clickButton=driver.find_element_by_xpath(\"//label[@analytics-event='All matches']\")"
   ]
  },
  {
   "cell_type": "code",
   "execution_count": 9,
   "id": "c45dd0d8",
   "metadata": {},
   "outputs": [],
   "source": [
    "clickButton.click()\n"
   ]
  },
  {
   "cell_type": "code",
   "execution_count": 10,
   "id": "071b7db7",
   "metadata": {},
   "outputs": [],
   "source": [
    "dropdown=Select(driver.find_element_by_id(\"country\"))\n",
    "dropdown.select_by_visible_text(\"Spain\")\n",
    "time.sleep(3)"
   ]
  },
  {
   "cell_type": "code",
   "execution_count": 11,
   "id": "1bf39063",
   "metadata": {},
   "outputs": [],
   "source": [
    "matches=driver.find_elements_by_tag_name(\"tr\")\n",
    "date=[]\n",
    "home_team=[]\n",
    "score=[]\n",
    "away_team=[]"
   ]
  },
  {
   "cell_type": "code",
   "execution_count": 12,
   "id": "b2ed4606",
   "metadata": {},
   "outputs": [],
   "source": [
    "for match in matches:\n",
    "    date.append(match.find_element_by_xpath(\"./td[1]\").text)\n",
    "    home=match.find_element_by_xpath(\"./td[2]\").text\n",
    "    #print(home)\n",
    "    home_team.append(home)\n",
    "    score.append(match.find_element_by_xpath(\"./td[3]\").text)\n",
    "    away_team.append(match.find_element_by_xpath(\"./td[4]\").text)"
   ]
  },
  {
   "cell_type": "code",
   "execution_count": 13,
   "id": "5c1dbe87",
   "metadata": {},
   "outputs": [],
   "source": [
    "driver.quit()"
   ]
  },
  {
   "cell_type": "code",
   "execution_count": 14,
   "id": "e8e5efb9",
   "metadata": {},
   "outputs": [],
   "source": [
    "df=pd.DataFrame({\"date\":date,\"home_team\":home_team,\"score\":score,\"away_team\":away_team})"
   ]
  },
  {
   "cell_type": "code",
   "execution_count": 15,
   "id": "b39b7c26",
   "metadata": {},
   "outputs": [
    {
     "name": "stdout",
     "output_type": "stream",
     "text": [
      "<class 'pandas.core.frame.DataFrame'>\n",
      "RangeIndex: 600 entries, 0 to 599\n",
      "Data columns (total 4 columns):\n",
      " #   Column     Non-Null Count  Dtype \n",
      "---  ------     --------------  ----- \n",
      " 0   date       600 non-null    object\n",
      " 1   home_team  600 non-null    object\n",
      " 2   score      600 non-null    object\n",
      " 3   away_team  600 non-null    object\n",
      "dtypes: object(4)\n",
      "memory usage: 9.4+ KB\n"
     ]
    }
   ],
   "source": [
    "df.info()"
   ]
  },
  {
   "cell_type": "code",
   "execution_count": 16,
   "id": "47d7213c",
   "metadata": {},
   "outputs": [],
   "source": [
    "df.to_csv(\"footbal.csv\",index=False)"
   ]
  }
 ],
 "metadata": {
  "kernelspec": {
   "display_name": "Python 3",
   "language": "python",
   "name": "python3"
  },
  "language_info": {
   "codemirror_mode": {
    "name": "ipython",
    "version": 3
   },
   "file_extension": ".py",
   "mimetype": "text/x-python",
   "name": "python",
   "nbconvert_exporter": "python",
   "pygments_lexer": "ipython3",
   "version": "3.8.8"
  }
 },
 "nbformat": 4,
 "nbformat_minor": 5
}
