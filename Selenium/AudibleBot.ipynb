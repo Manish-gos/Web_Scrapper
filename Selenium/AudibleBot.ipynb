{
 "cells": [
  {
   "cell_type": "code",
   "execution_count": null,
   "id": "7210cb13",
   "metadata": {},
   "outputs": [],
   "source": [
    "# headless mode- we use headless when we dont want to open a chrome window"
   ]
  },
  {
   "cell_type": "code",
   "execution_count": 20,
   "id": "693605dc",
   "metadata": {},
   "outputs": [],
   "source": [
    "from selenium import webdriver\n",
    "import pandas as pd\n",
    "from selenium.webdriver.chrome.options import Options\n",
    "import time"
   ]
  },
  {
   "cell_type": "code",
   "execution_count": 21,
   "id": "a34a83d7",
   "metadata": {},
   "outputs": [],
   "source": [
    "path=\"F:\\iNeuron\\chromedriver_win32\\chromedriver.exe\""
   ]
  },
  {
   "cell_type": "code",
   "execution_count": 22,
   "id": "2fff3b92",
   "metadata": {},
   "outputs": [],
   "source": [
    "# option code is to avoid home popup windows\n",
    "options=Options()\n",
    "# change value to false when you dont want the it \n",
    "options.headless=False#True\n",
    "#options.add_argument(\"window-size=1920x1080\")"
   ]
  },
  {
   "cell_type": "code",
   "execution_count": 23,
   "id": "dc238305",
   "metadata": {},
   "outputs": [
    {
     "name": "stdout",
     "output_type": "stream",
     "text": [
      "Task completed\n"
     ]
    }
   ],
   "source": [
    "website=\"https://www.audible.in/search\"\n",
    "#with out headless\n",
    "#driver=webdriver.Chrome(path)\n",
    "#with headless\n",
    "driver=webdriver.Chrome(path,options=options)\n",
    "driver.get(website)\n",
    "driver.maximize_window()\n",
    "\n",
    "\n",
    "#Pagination \n",
    "pagination=driver.find_element_by_xpath('//ul[contains(@class,\"pagingElements\")]')\n",
    "pages=pagination.find_elements_by_tag_name(\"li\")\n",
    "last_page=int(pages[-2].text)\n",
    "page_no=1\n",
    "#print(products[0])\n",
    "title=[]\n",
    "auhor=[]\n",
    "narrator=[]\n",
    "length=[]\n",
    "ratings=[]\n",
    "while page_no<=last_page:\n",
    "    time.sleep(2)\n",
    "    container=driver.find_element_by_class_name(\"adbl-impression-container \")\n",
    "    products=container.find_elements_by_xpath('.//li[contains(@class, \"productListItem\")]')\n",
    "    for product in products:\n",
    "        title.append(product.find_element_by_xpath(\".//h3[contains(@class,'bc-heading')]\").text)\n",
    "        auhor.append(product.find_element_by_xpath(\".//li[contains(@class,'authorLabel')]\").text[11:])\n",
    "        narrator.append(product.find_element_by_xpath(\".//li[contains(@class,'narratorLabel')]\").text[12:])\n",
    "        length.append(product.find_element_by_xpath(\".//li[contains(@class,'runtimeLabel')]\").text[7:])\n",
    "        ratings.append(product.find_element_by_xpath(\".//li[contains(@class,'ratingsLabel')]\").text.split(\"\\n\")[0])\n",
    "    page_no+=1\n",
    "    try:\n",
    "        next_page=driver.find_element_by_xpath('//span[contains(@class,\"nextButton \")]')\n",
    "        next_page.click()\n",
    "    except:\n",
    "        print('page not found')\n",
    "        pass\n",
    "driver.quit()\n",
    "df=pd.DataFrame({\"Book Name\":title,\n",
    "             \"Author Name\":auhor,\n",
    "             \"Narrator Name\":narrator,\n",
    "              \"Book Size\":length,\n",
    "              \"Book Ratings\":ratings\n",
    "             })\n",
    "df.head(20)\n",
    "df.to_csv(\"bookslistpagination.csv\",index=False)\n",
    "print(\"Task completed\")\n"
   ]
  }
 ],
 "metadata": {
  "kernelspec": {
   "display_name": "Python 3",
   "language": "python",
   "name": "python3"
  },
  "language_info": {
   "codemirror_mode": {
    "name": "ipython",
    "version": 3
   },
   "file_extension": ".py",
   "mimetype": "text/x-python",
   "name": "python",
   "nbconvert_exporter": "python",
   "pygments_lexer": "ipython3",
   "version": "3.8.8"
  }
 },
 "nbformat": 4,
 "nbformat_minor": 5
}
