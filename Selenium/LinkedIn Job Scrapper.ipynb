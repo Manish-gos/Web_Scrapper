{
 "cells": [
  {
   "cell_type": "code",
   "execution_count": null,
   "id": "4f1950c8",
   "metadata": {},
   "outputs": [
    {
     "name": "stdout",
     "output_type": "stream",
     "text": [
      "Enter Job Role- Data Mining\n",
      "Enter Location- pune\n",
      "button not found\n",
      "button not found\n",
      "button not found\n",
      "button not found\n",
      "button not found\n",
      "button  found\n",
      "button  found\n",
      "button  found\n",
      "button  found\n",
      "button  found\n",
      "button  found\n",
      "button  found\n",
      "button  found\n",
      "button  found\n",
      "button  found\n",
      "button  found\n",
      "button  found\n",
      "button  found\n",
      "button  found\n",
      "button  found\n",
      "button  found\n",
      "button  found\n",
      "button  found\n",
      "button  found\n",
      "button  found\n"
     ]
    }
   ],
   "source": [
    "from selenium import webdriver\n",
    "import pandas as pd\n",
    "import time\n",
    "\n",
    "job_role=input('Enter Job Role- ')\n",
    "job_location=input('Enter Location- ')\n",
    "path=\"F:\\iNeuron\\chromedriver_win32\\chromedriver.exe\"\n",
    "website=f\"https://www.linkedin.com/jobs/search?keywords={job_role}&location={job_location}\"\n",
    "driver=webdriver.Chrome(path)\n",
    "driver.get(website)\n",
    "driver.maximize_window()\n",
    "time.sleep(2)\n",
    "last_height = driver.execute_script(\"return document.body.scrollHeight\")\n",
    "while True:\n",
    "        # Scroll down to bottom\n",
    "        driver.execute_script(\"window.scrollTo(0, document.body.scrollHeight);\")\n",
    "        # Wait to load page\n",
    "        time.sleep(1)\n",
    "        # Calculate new scroll height and compare it with last scroll height\n",
    "        new_height = driver.execute_script(\"return document.body.scrollHeight\")\n",
    "        # condition 1\n",
    "        if new_height == last_height:  # if the new and last height are equal, it means that there isn't any new page to load, so we stop scrolling\n",
    "            break\n",
    "        # condition 2\n",
    "        # if len(data) > 60:\n",
    "        #     scrolling = False\n",
    "        #     break\n",
    "        else:\n",
    "            last_height = new_height\n",
    "            \n",
    "        container=driver.find_element_by_xpath(\"//ul[contains(@class,'jobs-search__results-list')]\")\n",
    "        job_list=container.find_elements_by_xpath(\".//div[contains(@class,'base-search-card__info')]\")\n",
    "        try:\n",
    "            driver.find_element_by_xpath(\"//button[contains(@aria-label,'See more jobs')]\").click()\n",
    "            last_height = new_height\n",
    "            print(\"button  found\")\n",
    "        except:\n",
    "            print(\"button not found\")\n",
    "            pass\n",
    "        role=[]\n",
    "        company=[]\n",
    "        location=[]\n",
    "        date=[]\n",
    "        for job in job_list:\n",
    "            role.append(job.find_element_by_xpath(\".//h3[contains(@class,'base-search-card__title')]\").text)\n",
    "            company.append(job.find_element_by_xpath(\".//h4[contains(@class,'base-search-card__subtitle')]\").text)\n",
    "            location.append(job.find_element_by_xpath(\".//span[contains(@class,'job-search-card__location')]\").text)\n",
    "            date.append(job.find_element_by_xpath(\".//time[contains(@class,'job-search-card__listdate')]\").text)\n",
    "driver.quit()\n",
    "df=pd.DataFrame({\"Role\":role,\"Company Name\":company,\"Location\":location,\"Post Date\":date})\n",
    "df.to_csv(f\"{job_role}-{job_location}.csv\",index=False)"
   ]
  },
  {
   "cell_type": "code",
   "execution_count": null,
   "id": "d037f817",
   "metadata": {},
   "outputs": [],
   "source": []
  },
  {
   "cell_type": "code",
   "execution_count": null,
   "id": "cc08e514",
   "metadata": {},
   "outputs": [],
   "source": []
  }
 ],
 "metadata": {
  "kernelspec": {
   "display_name": "Python 3",
   "language": "python",
   "name": "python3"
  },
  "language_info": {
   "codemirror_mode": {
    "name": "ipython",
    "version": 3
   },
   "file_extension": ".py",
   "mimetype": "text/x-python",
   "name": "python",
   "nbconvert_exporter": "python",
   "pygments_lexer": "ipython3",
   "version": "3.8.8"
  }
 },
 "nbformat": 4,
 "nbformat_minor": 5
}
