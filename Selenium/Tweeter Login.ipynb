{
 "cells": [
  {
   "cell_type": "code",
   "execution_count": 17,
   "id": "3025c7dd",
   "metadata": {},
   "outputs": [],
   "source": [
    "from selenium import webdriver\n",
    "import pandas as pd\n",
    "from selenium.webdriver.chrome.options import Options\n",
    "import time\n",
    "path=\"F:\\iNeuron\\chromedriver_win32\\chromedriver.exe\"\n",
    "website=\"https://twitter.com/i/flow/login\"\n",
    "driver=webdriver.Chrome(path)\n",
    "driver.get(website)\n",
    "driver.maximize_window()\n",
    "userid=\"ManishGos1013\"\n",
    "password=\"Mg@******\"\n",
    "time.sleep(5)\n",
    "username=driver.find_element_by_xpath('//input[contains(@name,\"text\")]')\n",
    "username.send_keys(userid)\n",
    "driver.find_elements_by_xpath('//div[contains(@role,\"button\")]')[-2].click()\n",
    "time.sleep(2)\n",
    "\n",
    "pswd=driver.find_element_by_xpath('//input[contains(@name,\"password\")]')\n",
    "pswd.send_keys(password)\n",
    "driver.find_elements_by_xpath('//div[contains(@role,\"button\")]')[-1].click()\n",
    "time.sleep(2)"
   ]
  },
  {
   "cell_type": "code",
   "execution_count": null,
   "id": "0aea387d",
   "metadata": {},
   "outputs": [],
   "source": []
  },
  {
   "cell_type": "code",
   "execution_count": null,
   "id": "ba9e73b5",
   "metadata": {},
   "outputs": [],
   "source": []
  },
  {
   "cell_type": "code",
   "execution_count": null,
   "id": "c1db8314",
   "metadata": {},
   "outputs": [],
   "source": []
  }
 ],
 "metadata": {
  "kernelspec": {
   "display_name": "Python 3",
   "language": "python",
   "name": "python3"
  },
  "language_info": {
   "codemirror_mode": {
    "name": "ipython",
    "version": 3
   },
   "file_extension": ".py",
   "mimetype": "text/x-python",
   "name": "python",
   "nbconvert_exporter": "python",
   "pygments_lexer": "ipython3",
   "version": "3.8.8"
  }
 },
 "nbformat": 4,
 "nbformat_minor": 5
}
